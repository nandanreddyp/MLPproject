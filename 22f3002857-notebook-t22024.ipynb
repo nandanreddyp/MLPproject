{
 "cells": [
  {
   "cell_type": "markdown",
   "metadata": {},
   "source": [
    "# MLP Project - crime-cast-forecasting-crime-categories\n",
    "\n",
    "<details>\n",
    "    <summary>Level1 Viva Task List</summary>\n",
    "    <ul>\n",
    "        <li> - [x] The dataset is appropriately loaded and stored into corresponding variables.</li>\n",
    "        <li> - [ ] Exploratory data analysis\n",
    "            <ul>\n",
    "                <li> - [ ] Visualizing key statistics and relationships in the data</li>\n",
    "                <li> - [ ] Correctly identify the feature types.</li>\n",
    "            </ul>\n",
    "        </li>\n",
    "        <li> - [ ] Detecting missing data and imputation, if required.</li>\n",
    "        <li> - [ ] The dataset is appropriately preprocessed,\n",
    "            <ul>\n",
    "                <li> - [ ] scaling numerical features.</li>\n",
    "                <li> - [ ] encoding categorical features.</li>\n",
    "            </ul>\n",
    "        </li>\n",
    "        <li> - [ ] Appropriate usage of pipelines if any.</li>\n",
    "        <li> - [ ] Feature engineering/extraction.</li>\n",
    "        <li> - [ ] Hyperparameter tuning of the model to optimize its performance.</li>\n",
    "        <li> - [ ] Code should be clean, well-structured and appropriately commented.</li>\n",
    "        <li> - [ ] Highlight important ideas learnt from the dataset and/or model.</li>\n",
    "        <li> - [ ] Compare at least 3 best models of all the models experimented, analyze their results and provide insights on the model's performance.</li>\n",
    "        <li> - [ ] Make submission with the model with the best score on training data.</li>\n",
    "    </ul>\n",
    "</details>\n"
   ]
  },
  {
   "cell_type": "markdown",
   "metadata": {},
   "source": [
    "### Data Loading"
   ]
  },
  {
   "cell_type": "code",
   "execution_count": null,
   "metadata": {},
   "outputs": [],
   "source": []
  },
  {
   "cell_type": "markdown",
   "metadata": {},
   "source": [
    "### EDA"
   ]
  },
  {
   "cell_type": "code",
   "execution_count": null,
   "metadata": {},
   "outputs": [],
   "source": []
  },
  {
   "cell_type": "markdown",
   "metadata": {},
   "source": [
    "### Preprocessing"
   ]
  },
  {
   "cell_type": "code",
   "execution_count": null,
   "metadata": {},
   "outputs": [],
   "source": []
  },
  {
   "cell_type": "markdown",
   "metadata": {},
   "source": [
    "### Feature Engineering"
   ]
  },
  {
   "cell_type": "code",
   "execution_count": null,
   "metadata": {},
   "outputs": [],
   "source": []
  },
  {
   "cell_type": "markdown",
   "metadata": {},
   "source": [
    "### Hyper parameter tuning"
   ]
  },
  {
   "cell_type": "code",
   "execution_count": null,
   "metadata": {},
   "outputs": [],
   "source": []
  },
  {
   "cell_type": "markdown",
   "metadata": {},
   "source": [
    "### Submission"
   ]
  },
  {
   "cell_type": "code",
   "execution_count": null,
   "metadata": {},
   "outputs": [],
   "source": []
  }
 ],
 "metadata": {
  "kernelspec": {
   "display_name": "venv",
   "language": "python",
   "name": "python3"
  },
  "language_info": {
   "codemirror_mode": {
    "name": "ipython",
    "version": 3
   },
   "file_extension": ".py",
   "mimetype": "text/x-python",
   "name": "python",
   "nbconvert_exporter": "python",
   "pygments_lexer": "ipython3",
   "version": "3.11.9"
  }
 },
 "nbformat": 4,
 "nbformat_minor": 2
}
