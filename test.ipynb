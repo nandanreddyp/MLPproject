{
 "cells": [
  {
   "cell_type": "code",
   "execution_count": 1,
   "metadata": {},
   "outputs": [],
   "source": [
    "import numpy as np; import pandas as pd; pd.set_option('display.max_columns', None)\n",
    "import matplotlib.pyplot as plt; import seaborn as sns\n",
    "\n",
    "train_df = pd.read_csv('data/train.csv')\n",
    "test_df = pd.read_csv('data/test.csv')\n",
    "eda_df = train_df.copy()"
   ]
  },
  {
   "cell_type": "code",
   "execution_count": 3,
   "metadata": {},
   "outputs": [
    {
     "name": "stdout",
     "output_type": "stream",
     "text": [
      "Relationship Analysis Between Categorical Features and Target:\n",
      "                Feature          Chi2        p-value  Cramér's V\n",
      "0              Location  66269.777425   6.861030e-33    0.814063\n",
      "1          Cross_Street   7236.374964   9.729601e-01    0.647876\n",
      "2         Date_Reported   8464.564304   0.000000e+00    0.290939\n",
      "3         Date_Occurred   2073.079225   3.996968e-05    0.143982\n",
      "4             Area_Name    615.189665   4.122622e-75    0.078434\n",
      "5        Modus_Operandi  76372.563791   0.000000e+00    0.940754\n",
      "6            Victim_Sex   1087.357348  2.489762e-222    0.144428\n",
      "7        Victim_Descent   1900.328872   0.000000e+00    0.147895\n",
      "8   Premise_Description   7301.689703   0.000000e+00    0.270250\n",
      "9    Weapon_Description   5694.708722   0.000000e+00    0.394049\n",
      "10               Status   3715.561535   0.000000e+00    0.215510\n",
      "11   Status_Description   3715.561535   0.000000e+00    0.215510\n"
     ]
    }
   ],
   "source": [
    "import scipy.stats as stats\n",
    "\n",
    "df = eda_df\n",
    "df.columns\n",
    "categorical_columns = ['Location','Date_Reported','Date_Occurred','Area_ID','Reporting_District_no','Part 1-2','Victim_Sex','Victim_Descent','Premise_Code','Weapon_Used_Code','Status']\n",
    "target_column = 'Crime_Category'\n",
    "if target_column not in df.columns:\n",
    "    raise KeyError(f\"Target column '{target_column}' not found in DataFrame columns: {df.columns.tolist()}\")\n",
    "categorical_columns = df.select_dtypes(include=['object']).columns\n",
    "def cramers_v(confusion_matrix):\n",
    "    chi2 = stats.chi2_contingency(confusion_matrix)[0]\n",
    "    n = confusion_matrix.sum().sum()\n",
    "    r, k = confusion_matrix.shape\n",
    "    return np.sqrt(chi2 / (n * (min(r, k) - 1)))\n",
    "results = []\n",
    "for col in categorical_columns:\n",
    "    if col != target_column:\n",
    "        if col not in df.columns:\n",
    "            raise KeyError(f\"Feature column '{col}' not found in DataFrame columns: {df.columns.tolist()}\")\n",
    "        contingency_table = pd.crosstab(df[col], df[target_column])\n",
    "        chi2, p, dof, ex = stats.chi2_contingency(contingency_table)\n",
    "        cramers_v_value = cramers_v(contingency_table)\n",
    "        results.append({\n",
    "            'Feature': col,\n",
    "            'Chi2': chi2,\n",
    "            'p-value': p,\n",
    "            'Cramér\\'s V': cramers_v_value\n",
    "        })\n",
    "results_df = pd.DataFrame(results)\n",
    "print(\"Relationship Analysis Between Categorical Features and Target:\")\n",
    "print(results_df)"
   ]
  },
  {
   "cell_type": "code",
   "execution_count": null,
   "metadata": {},
   "outputs": [],
   "source": []
  }
 ],
 "metadata": {
  "kernelspec": {
   "display_name": "venv",
   "language": "python",
   "name": "python3"
  },
  "language_info": {
   "codemirror_mode": {
    "name": "ipython",
    "version": 3
   },
   "file_extension": ".py",
   "mimetype": "text/x-python",
   "name": "python",
   "nbconvert_exporter": "python",
   "pygments_lexer": "ipython3",
   "version": "3.12.5"
  }
 },
 "nbformat": 4,
 "nbformat_minor": 2
}
