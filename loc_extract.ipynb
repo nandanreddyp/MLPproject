{
 "cells": [
  {
   "cell_type": "code",
   "execution_count": 307,
   "metadata": {},
   "outputs": [],
   "source": [
    "import numpy as np; import pandas as pd; pd.set_option('display.max_columns', None)\n",
    "import matplotlib.pyplot as plt; import seaborn as sns\n",
    "import re\n",
    "\n",
    "train_data = pd.read_csv('data/train.csv')\n",
    "test_data = pd.read_csv('data/test.csv')"
   ]
  },
  {
   "cell_type": "code",
   "execution_count": 308,
   "metadata": {},
   "outputs": [],
   "source": [
    "data = train_data['Location']"
   ]
  },
  {
   "cell_type": "code",
   "execution_count": 309,
   "metadata": {},
   "outputs": [],
   "source": [
    "data = pd.DataFrame(data, columns=['Location'])\n",
    "data.to_csv('locationData/notCleaned.csv', index=False)"
   ]
  },
  {
   "cell_type": "code",
   "execution_count": 310,
   "metadata": {},
   "outputs": [],
   "source": [
    "def parse_location(s):\n",
    "    street_number = direction = street_name = street_type = None\n",
    "    try: # steet number\n",
    "        nt = s.split(' ')[0]\n",
    "        street_number = nt if int(nt.isdigit()) else None\n",
    "    except: pass\n",
    "    try: # direction\n",
    "        nt = [x.strip() for x in s.split(' ') if x.strip()]\n",
    "        for x in nt:\n",
    "            if x.isdigit(): continue\n",
    "            elif len(x)>1: break\n",
    "            if x in ['N', 'S', 'E', 'W']:\n",
    "                direction = x; break\n",
    "    except: pass\n",
    "    try: # street type\n",
    "        nt = s.split('   ')[-1].strip()\n",
    "        street_type = nt if len(nt)==2 and not(nt.isdigit()) else None\n",
    "    except: pass\n",
    "\n",
    "    street_name = None # street name\n",
    "    nt = [x.strip() for x in s.split('  ') if x.strip()]\n",
    "    for x in nt:\n",
    "        test_x = [x.strip() for x in x.split(' ') if x.strip()]\n",
    "        if len(test_x)==1 and not(street_number and street_number == test_x[0]) and not(street_type and street_type == test_x[0]):\n",
    "            street_name = x; break\n",
    "        elif not(street_number and street_number in test_x):\n",
    "            street_name = x; break\n",
    "        \n",
    "    return street_number, direction, street_name, street_type\n",
    "parsed_data = []\n",
    "for idx, row in data.iterrows():\n",
    "    string = row['Location']\n",
    "    street_number, direction, street_name, street_type = parse_location(string)\n",
    "    parsed_data.append({\n",
    "        'Location': string,\n",
    "        'Street_Number': street_number,\n",
    "        'Direction': direction,\n",
    "        'Street_Name': street_name,\n",
    "        'Street_Type': street_type\n",
    "    })\n",
    "\n",
    "parsed_data_df = pd.DataFrame(parsed_data)\n",
    "parsed_data_df.to_csv('locationData/cleaned.csv', index=False)"
   ]
  }
 ],
 "metadata": {
  "kernelspec": {
   "display_name": "venv",
   "language": "python",
   "name": "python3"
  },
  "language_info": {
   "codemirror_mode": {
    "name": "ipython",
    "version": 3
   },
   "file_extension": ".py",
   "mimetype": "text/x-python",
   "name": "python",
   "nbconvert_exporter": "python",
   "pygments_lexer": "ipython3",
   "version": "3.12.5"
  }
 },
 "nbformat": 4,
 "nbformat_minor": 2
}
